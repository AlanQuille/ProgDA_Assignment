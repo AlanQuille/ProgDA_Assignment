{
 "cells": [
  {
   "cell_type": "markdown",
   "metadata": {},
   "source": [
    "# Programming for Data Analysis Assignment 2020"
   ]
  },
  {
   "cell_type": "markdown",
   "metadata": {},
   "source": [
    "## Table of contents\n",
    "1. [Purpose of numpy.random package](#purpose)\n",
    "\n",
    "2. [Use of Simple random data and Permutations functions](#use1)\n",
    "\n",
    "    2.1 [Simple random data](#simple) \n",
    "    \n",
    "    2.2 [Permutations](#permutations) <br>\n",
    "\n",
    "2. [Use and purpose of Distributions functions](#use2)\n",
    "\n",
    "    3.1. [Binomial](#binomial)\n",
    "    \n",
    "    3.2. [Uniform](#uniform)\n",
    "     \n",
    "    3.3. [Normal](#normal)\n",
    "    \n",
    "    3.4. [Log-normal](#lognormal)\n",
    "    \n",
    "    3.5. [Exponential](#exponential)\n",
    "    \n",
    "    3.6. [Student's t](#student)\n",
    "    \n",
    "    3.7. [Chi-squared](#chi)\n",
    "    \n",
    "4. [Seeds](#seeds)\n",
    "\n",
    "5. [References](#references)"
   ]
  },
  {
   "cell_type": "markdown",
   "metadata": {},
   "source": [
    "## Purpose of numpy.random package <a name=\"purpose\"></a>\n",
    "The numpy.random package is used to generate numpy arrays of pseudo-random numbers, i.e., numbers which appear to be randomly generated numbers but are actually generated using non-random (deterministic) means [1](#1), specifically using the Mersenne-Twister algorithm [2](#2). These are innumerable applications for these numbers in science and mathematics. For instance, in machine learning one is often required to split data into train and test sets and the data has to be chosen randomly."
   ]
  },
  {
   "cell_type": "markdown",
   "metadata": {},
   "source": [
    "## Use of Simple random data and Permutations functions <a name=\"use1\"></a>\n",
    "### Simple random data <a name=\"simple\"></a>\n",
    "The Simple random data functions consist of the **integers**, **random**, **choice** and **bytes** functions [3](#3). \n",
    "#### Integers <a name=\"integers\"></a>\n",
    "**integers** returns a list of pseudo-random integers in a certain range and returns the list as a numpy array. The range is defined by a low value and a high value input in the function. For instance, to generate a numpy array of 10 pseudo-random integers between 2 and 5:"
   ]
  },
  {
   "cell_type": "code",
   "execution_count": 41,
   "metadata": {},
   "outputs": [
    {
     "name": "stdout",
     "output_type": "stream",
     "text": [
      "[4 3 3 2 2 2 2 2 2 4]\n"
     ]
    }
   ],
   "source": [
    "# Generator contains methods for generating random numbers, \n",
    "# PCG64 (Permuted Congruential Generator 64 bit) \n",
    "# is the bit generator for the PCG64 \n",
    "# pseudo-random generator, SeedSequence generates\n",
    "# the initial value (seed) for the pseudo\n",
    "# random number generator\n",
    "from numpy.random import Generator, PCG64, SeedSequence\n",
    "# the initial state sg is set\n",
    "sg = SeedSequence(1234)\n",
    "# the seed is extracted from the initial state\n",
    "seed = sg.spawn(0)\n",
    "# the generator rg is generated using\n",
    "# PCG64 and the seed\n",
    "rg = Generator(PCG64(seed)) \n",
    "# a list of random integers is generated in the range (2, 5)\n",
    "integer_list = rg.integers(low=2, high=5, size=10)\n",
    "print(integer_list)"
   ]
  },
  {
   "cell_type": "markdown",
   "metadata": {},
   "source": [
    "#### Random <a name=\"random\"></a>\n",
    "**random** performs a similar function to **integers** except it returns a numpy array of pseudo-random floats in a certain range rather than integers. For instance, to generate a numpy array of 10 pseudo-random floats between 2 and 5:"
   ]
  },
  {
   "cell_type": "code",
   "execution_count": 42,
   "metadata": {},
   "outputs": [
    {
     "name": "stdout",
     "output_type": "stream",
     "text": [
      "[4.73826673 3.81990733 4.18848968 3.63087497 4.80521727 4.44756066\n",
      " 2.0082155  4.57221283 2.10075673 4.18896634]\n"
     ]
    }
   ],
   "source": [
    "float_list = (5-2) *rg.random(10) + 2\n",
    "print(float_list)"
   ]
  },
  {
   "cell_type": "markdown",
   "metadata": {},
   "source": [
    "The max and min values for the **random** function are 0 and 1. To get floats between 2 and 5, you have to transform the data using the formula:<br> \n",
    "&nbsp;&nbsp;&nbsp;&nbsp;&nbsp;&nbsp;&nbsp;&nbsp;&nbsp;&nbsp;&nbsp;&nbsp;&nbsp;&nbsp;&nbsp;&nbsp;&nbsp;&nbsp;&nbsp;&nbsp;&nbsp;&nbsp;&nbsp;&nbsp;&nbsp;&nbsp;&nbsp;&nbsp;&nbsp;&nbsp;&nbsp;&nbsp;&nbsp;&nbsp;&nbsp;&nbsp;&nbsp;&nbsp;&nbsp;&nbsp;&nbsp;&nbsp;&nbsp;&nbsp;&nbsp;&nbsp;&nbsp;&nbsp;&nbsp;&nbsp;&nbsp;&nbsp;&nbsp;&nbsp;&nbsp;&nbsp;&nbsp;&nbsp;&nbsp;&nbsp;&nbsp;&nbsp;&nbsp;&nbsp;&nbsp;&nbsp;&nbsp;&nbsp;&nbsp;&nbsp;&nbsp;&nbsp;&nbsp;&nbsp;(**b**-**a**) **rg.random(10)** + **a** <br>\n",
    "where b is the max value of the range (5 in this instance), a is the min value in the range (2 in this instance). a and b are also floats."
   ]
  },
  {
   "cell_type": "markdown",
   "metadata": {},
   "source": [
    "#### Choice <a name=\"choice\"></a>\n",
    "**choice** selects a number of elements from a numpy array in a random order. Elements may be duplicated if the same element is selected more than once randomly. For instance, to randomly select 5 values from a numpy array of the first 10 numbers (0-9):"
   ]
  },
  {
   "cell_type": "code",
   "execution_count": 43,
   "metadata": {},
   "outputs": [
    {
     "name": "stdout",
     "output_type": "stream",
     "text": [
      "[0 1 2 3 4 5 6 7 8 9] [8 1 0 8 0]\n"
     ]
    }
   ],
   "source": [
    "# get the numpy package to generate\n",
    "# non-random numbers\n",
    "import numpy as np\n",
    "# numpy array of numbers from 0 to 10\n",
    "ten_list = np.arange(10)\n",
    "# five_list is a random selection of \n",
    "# 5 elements from ten_list\n",
    "five_list = rg.choice(ten_list, size=5)\n",
    "print(ten_list, five_list)"
   ]
  },
  {
   "cell_type": "markdown",
   "metadata": {},
   "source": [
    "#### Bytes <a name=\"bytes\"></a>\n",
    "**bytes** returns a string of random bytes. For instance, to generate a string of 10 bytes:"
   ]
  },
  {
   "cell_type": "code",
   "execution_count": 44,
   "metadata": {},
   "outputs": [
    {
     "data": {
      "text/plain": [
       "b'\\xd93\\x9d\\x8a8\\x12\\x95\\x14 \\xeb'"
      ]
     },
     "execution_count": 44,
     "metadata": {},
     "output_type": "execute_result"
    }
   ],
   "source": [
    "rg.bytes(10)"
   ]
  },
  {
   "cell_type": "markdown",
   "metadata": {},
   "source": [
    "### Permutations <a name=\"permutations\"></a>\n",
    "#### Shuffle <a name=\"shuffle\"></a>\n",
    "**shuffle** rearranges an input numpy array randomly. The function does not return a value, instead it rearranges the input array \"in-place\" (i.e. the original input array is changed). For instance, to randomly rearrange a numpy array of the first 10 numbers (0-9):"
   ]
  },
  {
   "cell_type": "code",
   "execution_count": 45,
   "metadata": {
    "scrolled": true
   },
   "outputs": [
    {
     "name": "stdout",
     "output_type": "stream",
     "text": [
      "[0 1 2 3 4 5 6 7 8 9]\n",
      "[4 6 5 2 3 9 7 0 8 1]\n"
     ]
    }
   ],
   "source": [
    "ten_list = np.arange(10)\n",
    "print(ten_list)\n",
    "# shuffle original ten_list in-place\n",
    "rg.shuffle(ten_list)\n",
    "print(ten_list)"
   ]
  },
  {
   "cell_type": "markdown",
   "metadata": {},
   "source": [
    "#### Permutation <a name=\"permutation\"></a>\n",
    "**permutation** is very similar to **shuffle**, except that it does not rearrange the input array in-place, the original input array is unchanged. Instead, it returns a new numpy array which consists of randomly rearranged elements of the input array. For instance, to generate a numpy array of the randomy rearranged numpy array of the first 10 numbers (0-9):"
   ]
  },
  {
   "cell_type": "code",
   "execution_count": 46,
   "metadata": {
    "scrolled": true
   },
   "outputs": [
    {
     "name": "stdout",
     "output_type": "stream",
     "text": [
      "[0 1 2 3 4 5 6 7 8 9]\n",
      "[1 0 4 7 8 6 9 2 3 5] [0 1 2 3 4 5 6 7 8 9]\n"
     ]
    }
   ],
   "source": [
    "ten_list = np.arange(10)\n",
    "print(ten_list)\n",
    "# permuted is the shuffled ten_list\n",
    "permuted = rg.permutation(ten_list)\n",
    "print(permuted, ten_list)"
   ]
  },
  {
   "cell_type": "markdown",
   "metadata": {},
   "source": [
    "## Use and purpose of Distributions functions <a name=\"use2\"></a>\n",
    "### Binomial <a name=\"binomial\"></a>\n",
    "The Binomial distribution is a discrete-binary probability distribution with only two outcomes: 0 and 1 [4](#4). An experiment is performed n times and the success or failure of each experiment is represented as 0 or 1. The probability of sucess is represented as p and the probability of failure is 1-p. The mean is np (the median and mode are more complicated and have multiple formulae).\n",
    "The binomial distribution has many uses, one of which is binary classification models in machine learning (i.e. true or false, yes or no output).\n",
    "The purpose of the **binomial** function is to generate a numpy array of floats using this distribution. For instance, to generate 100000 binomially distributed random numbers with n=1 and p = 0.3333 (note, when n=1 the binomial distribution equals the Bernoulli distribution):"
   ]
  },
  {
   "cell_type": "code",
   "execution_count": 47,
   "metadata": {
    "scrolled": true
   },
   "outputs": [
    {
     "name": "stdout",
     "output_type": "stream",
     "text": [
      "[0 0 1 ... 0 1 1]\n",
      "0.33349\n",
      "100000\n"
     ]
    }
   ],
   "source": [
    "b = rg.binomial(1, 0.3333, size=100000)\n",
    "print(b)\n",
    "# mean of b\n",
    "print(np.mean(b))\n",
    "# size of b\n",
    "print(len(b))"
   ]
  },
  {
   "cell_type": "markdown",
   "metadata": {},
   "source": [
    "The **binomial** function returns integers as the binomial distribution is discrete.\n",
    "A visual representation of **binomials**'s functionality is shown as follows:"
   ]
  },
  {
   "cell_type": "code",
   "execution_count": 79,
   "metadata": {
    "scrolled": true
   },
   "outputs": [
    {
     "data": {
      "image/png": "[encoded data removed]",
      "text/plain": [
       "<Figure size 432x288 with 1 Axes>"
      ]
     },
     "metadata": {},
     "output_type": "display_data"
    }
   ],
   "source": [
    "# to generate plots using pyplot from matplotlib\n",
    "import matplotlib.pyplot as plt\n",
    "# seaborn makes the plots look nicer\n",
    "import seaborn as sns\n",
    "\n",
    "# create grid for pyplots from seaborn\n",
    "sns.set()\n",
    "\n",
    "# This creates histogram plots\n",
    "def plot_hist_of_dist(input_sample, x_label, y_label, dist_name, bins_no):\n",
    "    # takes the input sample, number of bins and sets density=True to trace a \n",
    "    # good fit for a probability density function to the data.\n",
    "    count, bins, ignored = plt.hist(input_sample, bins_no, density=True)\n",
    "\n",
    "    # Title of the histogram plot\n",
    "    plt.title(dist_name, fontsize=25)\n",
    "    \n",
    "    # the x label of histogrm\n",
    "    plt.xlabel(x_label, fontsize=20)\n",
    "    \n",
    "    # the y label of histogram\n",
    "    plt.ylabel(y_label, fontsize=20)\n",
    "    \n",
    "    # change size of ticks of x and y axes\n",
    "    ax = plt.gca()\n",
    "    ax.tick_params(axis = 'both', which = 'major', labelsize = 14)\n",
    "\n",
    "    # show the plot of bins and histogram plot on same graph\n",
    "    plt.show()\n",
    "\n",
    "# show histogram of binomially generated numbers\n",
    "plot_hist_of_dist(b, \"X\", \"Probability\", \"Binomial\", 100)"
   ]
  },
  {
   "cell_type": "markdown",
   "metadata": {},
   "source": [
    "Where X is a variable indicating a point along the interval [0,1]. As can be seen from the histogram, approximately 66% of the values are at 0 and 33% are at 1."
   ]
  },
  {
   "cell_type": "markdown",
   "metadata": {},
   "source": [
    "### Uniform <a name=\"uniform\"></a>\n",
    "The uniform distribution is a probability distribution where each segment of the interval where the distribution is defined on has equal probability with any other segment of the interval. The mean of the distribution is the midpoint of the interval and equals the median. The mode is any value in the interval.\n",
    "The uniform distribution has many uses, one of which is generating numbers for Monte Carlo simulations.\n",
    "The purpose of **uniform** is to generate a numpy array of floats using this distribution. For instance, to generate 100000 uniformly distributed random numbers greater than or equal to 2 and less than 5:"
   ]
  },
  {
   "cell_type": "code",
   "execution_count": 49,
   "metadata": {},
   "outputs": [
    {
     "name": "stdout",
     "output_type": "stream",
     "text": [
      "[3.89149295 4.08897639 2.32912156 ... 4.85011903 2.55283662 3.78591512]\n",
      "3.4969189521657715\n",
      "3.4925199041571453\n",
      "100000\n"
     ]
    }
   ],
   "source": [
    "u = rg.uniform(2, 5, 100000)\n",
    "print(u)\n",
    "# mean and median should equal\n",
    "print(np.mean(u))\n",
    "print(np.median(u))\n",
    "# 100000 number of samples\n",
    "print(len(u))"
   ]
  },
  {
   "cell_type": "markdown",
   "metadata": {},
   "source": [
    "The **uniform** function assumes that the interval between 2 and 5 is continuous, not discrete and returns floats. To generate integers from a discrete interval between 2 and 5, one should use the **integers** function described previously. **uniform** is very similar to the **random** function previously described.\n",
    "A visual representation of **uniform**'s functionality is shown as follows:"
   ]
  },
  {
   "cell_type": "code",
   "execution_count": 78,
   "metadata": {},
   "outputs": [
    {
     "data": {
      "image/png": "[encoded data removed]",
      "text/plain": [
       "<Figure size 432x288 with 1 Axes>"
      ]
     },
     "metadata": {},
     "output_type": "display_data"
    }
   ],
   "source": [
    "# Generate histogram of uniform distribution.\n",
    "plot_hist_of_dist(u, \"X\", \"Probability\", \"Uniform\", 30)"
   ]
  },
  {
   "cell_type": "markdown",
   "metadata": {},
   "source": [
    "Where X is a variable indicating a point along the interval [2,5). As can be seen from the histogram, the probability for each segment (divided here into bins of length 0.1) is approximately equal to the probability for the next segment, and so on for the entirel interval [2,5).\n",
    "### Normal <a name=\"normal\"></a>\n",
    "The normal distribution is a probability distribution which has a peak around the mean or average value and decreases with distance from the mean. It is symmetric about this mean. In addition, the median (centre) and mode (most common) probability values are identical to the the mean. Approximately 68% of the distribution is located in the interval [mu-sigma, mu+sigma] (where mu is the mean and sigma is the standard deviation), 95% is located in the interval [mu -2sigma, mu+2sigma] and 99.7% is located in the interval [mu-3sigma, mu+3sigma]. \n",
    "One particular use for normal distributions is in least squares regression, which assumes the variables are normally distributed.\n",
    "The purpose of the **normal** function is to generate a numpy array of floats using this distribution. For instance, to generate 10000 normally distributed random numbers between 2 and 5 with mean 2.5 and standard deviation 0.1:"
   ]
  },
  {
   "cell_type": "code",
   "execution_count": 51,
   "metadata": {},
   "outputs": [
    {
     "name": "stdout",
     "output_type": "stream",
     "text": [
      "[2.36195631 2.69643648 2.50695208 ... 2.66118448 2.64264137 2.530252  ]\n",
      "2.4996584190171394\n",
      "2.4996214443179183\n",
      "100000\n"
     ]
    }
   ],
   "source": [
    "n = np.random.default_rng().normal(2.5, 0.1, 100000)\n",
    "print(n)\n",
    "# mean and median should equal\n",
    "print(np.mean(n))\n",
    "print(np.median(n))\n",
    "# number of samples generated\n",
    "print(len(n))"
   ]
  },
  {
   "cell_type": "markdown",
   "metadata": {},
   "source": [
    "The **normal** function assumes that the interval between 2 and 5 is continuous, not discrete and returns floats.\n",
    "A visual representation of **normal**'s functionality is shown as follows:"
   ]
  },
  {
   "cell_type": "code",
   "execution_count": 68,
   "metadata": {},
   "outputs": [
    {
     "data": {
      "image/png": "[encoded data removed]",
      "text/plain": [
       "<Figure size 432x288 with 1 Axes>"
      ]
     },
     "metadata": {},
     "output_type": "display_data"
    }
   ],
   "source": [
    "# histogram of normally generated numbers\n",
    "plot_hist_of_dist(n, \"X\", \"Probability\", \"Normal\", 100)"
   ]
  },
  {
   "cell_type": "markdown",
   "metadata": {},
   "source": [
    "As can be seen from the histogram, the probability for each segment (divided here into bins of length 0.1) is largest for the mean value X=2.5 and decreases gradually as X becomes smaller or larger than the mean. As X approaches 2.8 and 2.2. the probability becomes very small as 99.7% of the distribution is located in the interval [mu - 3sigma, mu+3sigma] which is [2.2, 2.8]\n",
    "### Log-normal <a name=\"lognormal\"></a>\n",
    "The log-normal distribution is a distribution where its natural log (log<sub>e</sub>) is normally distributed. It is a left skewed distribution (i.e. the mode is less than the median which is less than the mean).\n",
    "The distribution is frequently used in finance to model stock markets etc.\n",
    "The purpose of the **lognormal** function is to generate a numpy array of floats using this distribution. For instance, to generate 10000 normally distributed random numbers between 2 and 5 with mean 2.5 and standard deviation 0.25:"
   ]
  },
  {
   "cell_type": "code",
   "execution_count": 53,
   "metadata": {
    "scrolled": true
   },
   "outputs": [
    {
     "name": "stdout",
     "output_type": "stream",
     "text": [
      "[11.83047187 11.26470004  7.60402934 ...  9.23998936 13.25530768\n",
      " 19.25152588]\n",
      "12.571841942182687\n",
      "12.179931727965009\n",
      "100000\n"
     ]
    }
   ],
   "source": [
    "ln = rg.lognormal(2.5, 0.25, 100000)\n",
    "print(ln)\n",
    "# mean should be greater than median\n",
    "print(np.mean(ln))\n",
    "print(np.median(ln))\n",
    "# number of samples taken\n",
    "print(len(n))"
   ]
  },
  {
   "cell_type": "markdown",
   "metadata": {},
   "source": [
    "The **lognormal** function assumes that the interval between 2 and 5 is continuous, not discrete and returns floats.\n",
    "A visual representation of **lognormal**'s functionality is shown as follows:"
   ]
  },
  {
   "cell_type": "code",
   "execution_count": 69,
   "metadata": {},
   "outputs": [
    {
     "data": {
      "image/png": "[encoded data removed]",
      "text/plain": [
       "<Figure size 432x288 with 1 Axes>"
      ]
     },
     "metadata": {},
     "output_type": "display_data"
    }
   ],
   "source": [
    "# histogram of lognormal distribution\n",
    "plot_hist_of_dist(ln, \"X\", \"Probability\", \"Lognormal\", 15)"
   ]
  },
  {
   "cell_type": "markdown",
   "metadata": {},
   "source": [
    "The left-skewed nature of the distribution can be seen from the histogram\n",
    "### Exponential <a name=\"exponential\"></a>\n",
    "The exponential distribution is a probability distribution which describes the time between events in a process where events happen continuously. The events are independent of each other and occur at a constant average rate. It is used in particle physics e.g. to describe the radioactive decay of particles. The distribution is left-skewed, so the mean is greater than the median which is greater than the mode.\n",
    "The purpose of the **exponential** function is to generate a numpy array of floats using this distribution. For instance, to generate 10000 exponentially distributed random numbers with mean 2:"
   ]
  },
  {
   "cell_type": "code",
   "execution_count": 55,
   "metadata": {},
   "outputs": [
    {
     "name": "stdout",
     "output_type": "stream",
     "text": [
      "[2.10825937 1.27186075 1.00051231 ... 4.47744539 3.6089611  3.04082745]\n",
      "2.0020755372164487\n",
      "1.3851419641580076\n",
      "100000\n"
     ]
    }
   ],
   "source": [
    "e = rg.exponential(2, size=100000)\n",
    "print(e)\n",
    "# mean is less than median\n",
    "print(np.mean(e))\n",
    "print(np.median(e))\n",
    "# number of samples\n",
    "print(len(e))"
   ]
  },
  {
   "cell_type": "markdown",
   "metadata": {},
   "source": [
    "The **exponential** function assumes continuous not discrete probabilities and returns floats.\n",
    "A visual representation of **exponetial**'s functionality is shown as follows:"
   ]
  },
  {
   "cell_type": "code",
   "execution_count": 70,
   "metadata": {},
   "outputs": [
    {
     "data": {
      "image/png": "[encoded data removed]",
      "text/plain": [
       "<Figure size 432x288 with 1 Axes>"
      ]
     },
     "metadata": {},
     "output_type": "display_data"
    }
   ],
   "source": [
    "# histogram of exponential distribution\n",
    "plot_hist_of_dist(e, \"X\", \"Probability\", \"Exponential\", 30)"
   ]
  },
  {
   "cell_type": "markdown",
   "metadata": {},
   "source": [
    "Like the log normal distribution, it is left-skewed as can be seen from the histogram\n",
    "### Student’s t ### <a name=\"student\"></a>\n",
    "The Student's t distribution is a probability distribution which is very similar to the normal distribution. It is used to estimate the mean of normally distributed populations when the sample size is small (it approaches the normal distribution as the sample size increases) and the standard deviation of the population is not known.\n",
    "The distribution is often used in the Student' t-test, which estimates the likelihood of the mean of the sample differing from the mean of the popuation (one sample t-test) or estimates the likelihood of two population means differing, given two samples (two sample t-test).\n",
    "The purpose of the **standard_t** function is to generate a Numpy array of floats using this distribution and, hence, to do t-tests. For instance, given a sample of the IQ's of 11 people (10 degrees of freedom), can we reject the null hypothesis that the mean of the sample is identical to the mean of the IQ's in general (which is 100)?"
   ]
  },
  {
   "cell_type": "code",
   "execution_count": 57,
   "metadata": {
    "scrolled": false
   },
   "outputs": [
    {
     "name": "stdout",
     "output_type": "stream",
     "text": [
      "115.63636363636364\n",
      "23.732984335193613\n",
      "The p-value is: 0.97337\n"
     ]
    }
   ],
   "source": [
    "# example numpy array of IQ's\n",
    "IQ_list = np.array([140, 99, 76, 120, 125, 156, 87, 111, 138, 105, 115])\n",
    "# st is numpy array of samples taken from standard_t distribution with 10 degrees of freedom\n",
    "st = np.random.standard_t(10, size=100000)\n",
    "# mean of IQ_list\n",
    "print(np.mean(IQ_list))\n",
    "# standard deviation of IQ_list with 1 degree of freedom\n",
    "print(IQ_list.std(ddof=1))\n",
    "# difference between mean of IQ-list and population mean of IQ's (100)\n",
    "# divided by the standard deviation over the square root of the size of IQ_list\n",
    "t = (np.mean(IQ_list)-100)/(IQ_list.std(ddof=1)/np.sqrt(len(IQ_list)))\n",
    "# p_value generated from summing up all values of st for which st<t \n",
    "# and dividing result by the size of st\n",
    "print(\"The p-value is: \" + str(np.sum(st<t) / float(len(st))))"
   ]
  },
  {
   "cell_type": "markdown",
   "metadata": {},
   "source": [
    "So the p-value is 0.974, which means there is a 2.6% chance that the mean of the sample (115.64) is the same as the population mean of 100, so the null hypothesis that they are the same is rejected (this process is simplified using the **stats** module from the **scipy** package). A visual representation of **standard_t**'s functionality is shown as follows:"
   ]
  },
  {
   "cell_type": "code",
   "execution_count": 73,
   "metadata": {
    "scrolled": false
   },
   "outputs": [
    {
     "data": {
      "image/png": "[encoded data removed]",
      "text/plain": [
       "<Figure size 432x288 with 1 Axes>"
      ]
     },
     "metadata": {},
     "output_type": "display_data"
    }
   ],
   "source": [
    "# histogram of Student's t distribution\n",
    "plot_hist_of_dist(st, \"X\", \"Probability\", \"Student's t\", 100)"
   ]
  },
  {
   "cell_type": "markdown",
   "metadata": {},
   "source": [
    "As can be seen from the histogram, the distribution resembles a normal distribution.\n",
    "### Chi-squared ### <a name=\"chi\"></a>\n",
    "The chi-squared distribution comes from summing the square of multiple normally distributed random variables. This distribution is used for the Pearson's chi-squared test. This test compares two sets of data and calculates whether differences between expected and observed data are statistically significant.\n",
    "The purpose of the **chisquare** function is to generate a Numpy array of floats from this distribution. For instance, to generate a Numpy array of 100000 floats with 2 degrees of freedom:"
   ]
  },
  {
   "cell_type": "code",
   "execution_count": 75,
   "metadata": {
    "scrolled": false
   },
   "outputs": [],
   "source": [
    "cq = np.random.chisquare(2,100000)"
   ]
  },
  {
   "cell_type": "markdown",
   "metadata": {},
   "source": [
    " A visual representation of **standard_t**'s functionality is shown as follows:"
   ]
  },
  {
   "cell_type": "code",
   "execution_count": 76,
   "metadata": {},
   "outputs": [
    {
     "data": {
      "image/png": "[encoded data removed]",
      "text/plain": [
       "<Figure size 432x288 with 1 Axes>"
      ]
     },
     "metadata": {},
     "output_type": "display_data"
    }
   ],
   "source": [
    "# histogram of Chi-squared distribution\n",
    "plot_hist_of_dist(cq, \"X\", \"Probability\", \"Chi-squared distribution\", 100)"
   ]
  },
  {
   "cell_type": "markdown",
   "metadata": {},
   "source": [
    "## Seeds <a name=\"seeds\"></a>\n",
    "A seed specifies a starting point in a pattern that a computer uses to generate pseudorandom numbers. The seed is usually taken from the seconds on a computer's clock. [5](#5) This ensures that no two seeds are identical.\n",
    "An example of a pattern is done using the irrational number pi (3.141592654...) [6](#6). The digits of pi have no regular pattern so is good for pseudorandom number generation. An example pattern acting on pi is take the seed X, add it to 50 and use the (X+50)th digit of pi as the first random number. Than substract 37 from that to get the second number, and so on.\n",
    "(Note: this is a simple example pattern, in practice computers use more complicated patterns based on the Bernoulli or Poisson distribution).\n",
    "While no two seeds are identical, they are preset initially when on is generating pseudorandom numbers. This is useful because if one has the seed for a particular set of pseudorandom numbers, they can replicate the exact same set of pseudorandom numbers for testing purposes. For instance, at the start of this Jupyter Notebook the numpy array *integer_list* was generated using the **integers** function. It can be generated again using the generator **rg** which has the same seed:"
   ]
  },
  {
   "cell_type": "code",
   "execution_count": 77,
   "metadata": {},
   "outputs": [
    {
     "name": "stdout",
     "output_type": "stream",
     "text": [
      "[4 3 3 2 2 2 2 2 2 4]\n",
      "[4 3 3 2 2 2 2 2 2 4]\n",
      "Success!\n"
     ]
    }
   ],
   "source": [
    "print(integer_list)\n",
    "# initial seed sequence\n",
    "sg = SeedSequence(1234)\n",
    "# get seed from seed sequence\n",
    "seed = sg.spawn(0)\n",
    "# seed the generator\n",
    "rg = Generator(PCG64(seed)) \n",
    "# generate new integer_list2 which should be identical to original integer_list\n",
    "integer_list2 = rg.integers(low=2, high=5, size=10)\n",
    "print(integer_list2)\n",
    "\n",
    "# Compare two numpy arrays\n",
    "comparison = integer_list == integer_list2\n",
    "equal_arrays = comparison.all()\n",
    "# Print Success! if equal\n",
    "if(equal_arrays):\n",
    "    print(\"Success!\")"
   ]
  },
  {
   "cell_type": "markdown",
   "metadata": {},
   "source": [
    "## References <a name=\"references\"></a>\n",
    "[1] Haahr, M., 2020. RANDOM.ORG - Introduction To Randomness And Random Numbers. [online] Random.org. Available at: <https://www.random.org/randomness/> [Accessed 26 October 2020].<a name=\"1\"></a><br> \n",
    "[2] Sicara.ai. 2020. [online] Available at: <https://www.sicara.ai/blog/2019-01-28-how-computer-generate-random-numbers> [Accessed 26 October 2020].<a name=\"2\"></a> <br> \n",
    "[3] Numpy.org. 2020. Random Generator — Numpy V1.19 Manual. [online] Available at: <https://numpy.org/doc/stable/reference/random/generator.html#numpy.random.Generator> [Accessed 26 October 2020].<a name=\"3\"></a> <br>\n",
    "[4] Medium. 2020. The Most Used Probability Distributions In Data Science. [online] Available at: <https://towardsdatascience.com/the-most-used-probability-distributions-in-data-science-5b3c11d34bfe> [Accessed 26 October 2020].<a name=\"4\"></a> <br>\n",
    "[5] Statistics How To. 2020. Random Seed: Definition - Statistics How To. [online] Available at: <https://www.statisticshowto.com/random-seed-definition/> [Accessed 26 October 2020].<a name=\"5\"></a>  <br>\n",
    "[6] McLoughlin, I. and McGinley, B., 2020. Programming for Data Analysis. [online] GMIT. Available at: <https://learnonline.gmit.ie/> [Accessed 26 October 2020].<a name=\"6\"></a>"
   ]
  }
 ],
 "metadata": {
  "kernelspec": {
   "display_name": "Python 3",
   "language": "python",
   "name": "python3"
  },
  "language_info": {
   "codemirror_mode": {
    "name": "ipython",
    "version": 3
   },
   "file_extension": ".py",
   "mimetype": "text/x-python",
   "name": "python",
   "nbconvert_exporter": "python",
   "pygments_lexer": "ipython3",
   "version": "3.8.5"
  }
 },
 "nbformat": 4,
 "nbformat_minor": 4
}
