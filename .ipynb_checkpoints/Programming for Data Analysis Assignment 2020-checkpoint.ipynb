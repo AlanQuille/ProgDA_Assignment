{
 "cells": [
  {
   "cell_type": "markdown",
   "metadata": {},
   "source": [
    "# Programming for Data Analysis Assignment 2020"
   ]
  },
  {
   "cell_type": "markdown",
   "metadata": {},
   "source": [
    "## Purpose of numpy.random package\n",
    "The numpy.random package is used to generate numpy arrays of pseudo-random numbers, i.e., numbers which approximate randomly generated numbers but are generated using non-random means[1], specifically using the Mersenne-Twister algorithm[2]. These are innumerable applications for these numbers in science and mathematics. For instance, in machine learning one is often required to split data into train and test sets and the data has to be chosen randomly."
   ]
  },
  {
   "cell_type": "markdown",
   "metadata": {},
   "source": [
    "## Use of Simple random data and Permutations functions\n",
    "### Simple random data\n",
    "The Simple random data functions consist of the **integers**, **random**, **choice** and **bytes** functions[3]. \n",
    "#### Integers\n",
    "**integers** returns a list of pseudo-random integers in a certain range and returns the list as a numpy array. The range is defined by a low value and a high value input in the function. For instance, to generate a numpy array of 10 pseudo-random integers between 2 and 5:"
   ]
  },
  {
   "cell_type": "code",
   "execution_count": 15,
   "metadata": {},
   "outputs": [
    {
     "name": "stdout",
     "output_type": "stream",
     "text": [
      "[4 3 3 2 2 2 2 2 2 4]\n"
     ]
    }
   ],
   "source": [
    "# Generator contains methods for generating random numbers, \n",
    "# PCG64 (Permuted Congruential Generator 64 bit) \n",
    "# is the bit generator for the PCG64 \n",
    "# pseudo-random generator, SeedSequence generates\n",
    "# the initial value (seed) for the pseudo\n",
    "# random number generator\n",
    "from numpy.random import Generator, PCG64, SeedSequence\n",
    "# the initial state sg is set\n",
    "sg = SeedSequence(1234)\n",
    "# the seed is extracted from the initial state\n",
    "seed = sg.spawn(0)\n",
    "# the generator rg is generated using\n",
    "# PCG64 and the seed\n",
    "rg = Generator(PCG64(seed)) \n",
    "# a list of random integers is generated in the range (2, 5)\n",
    "integer_list = rg.integers(low=2, high=5, size=10)\n",
    "print(integer_list)"
   ]
  },
  {
   "cell_type": "markdown",
   "metadata": {},
   "source": [
    "#### Random\n",
    "**random** performs a similar function to **integers** except it returns a numpy array of pseudo-random floats in a certain range rather than integers. For instance, to generate a numpy array of 10 pseudo-random floats between 2 and 5:"
   ]
  },
  {
   "cell_type": "code",
   "execution_count": 52,
   "metadata": {},
   "outputs": [
    {
     "name": "stdout",
     "output_type": "stream",
     "text": [
      "[3.89149295 4.08897639 2.32912156 2.09059708 3.65144222 4.01443498\n",
      " 2.53360306 2.49396967 2.88232246 3.49206122]\n"
     ]
    }
   ],
   "source": [
    "float_list = (5-2) *rg.random(10) + 2\n",
    "print(float_list)"
   ]
  },
  {
   "cell_type": "markdown",
   "metadata": {},
   "source": [
    "The max and min values for the **random** function are 0 and 1. To get floats between 2 and 5, you have to transform the data using the formula:<br> \n",
    "(b-a) rg.random(10) + a <br>\n",
    "where b is the max value of the range (5 in this instance), a is the min value in the range (2 in this instance). a and b are also floats."
   ]
  },
  {
   "cell_type": "markdown",
   "metadata": {},
   "source": [
    "#### Choice\n",
    "**choice** selects a number of elements from a numpy array in a random order. Elements may be duplicated if the same element is selected more than once randomly. For instance, to randomly select 5 values from a numpy array of the first 10 numbers (0-9):"
   ]
  },
  {
   "cell_type": "code",
   "execution_count": 18,
   "metadata": {},
   "outputs": [
    {
     "name": "stdout",
     "output_type": "stream",
     "text": [
      "[0 1 2 3 4 5 6 7 8 9] [8 1 0 8 0]\n"
     ]
    }
   ],
   "source": [
    "# get the numpy package to generate\n",
    "# non-random numbers\n",
    "import numpy as np\n",
    "# numpy array of numbers from 0 to 10\n",
    "ten_list = np.arange(10)\n",
    "five_list = rg.choice(ten_list, size=5)\n",
    "print(ten_list, five_list)"
   ]
  },
  {
   "cell_type": "markdown",
   "metadata": {},
   "source": [
    "#### Bytes\n",
    "**bytes** returns a string of random bytes. For instance, to generate a string of 10 bytes:"
   ]
  },
  {
   "cell_type": "code",
   "execution_count": 19,
   "metadata": {},
   "outputs": [
    {
     "data": {
      "text/plain": [
       "b'\\xd93\\x9d\\x8a8\\x12\\x95\\x14 \\xeb'"
      ]
     },
     "execution_count": 19,
     "metadata": {},
     "output_type": "execute_result"
    }
   ],
   "source": [
    "rg.bytes(10)"
   ]
  },
  {
   "cell_type": "markdown",
   "metadata": {},
   "source": [
    "### Permutations\n",
    "#### Shuffle\n",
    "**shuffle** rearranges an input numpy array randomly. The function does not return a value, instead it rearranges the input array \"in-place\" (i.e. the original input array is changed). For instance, to randomly rearrange a numpy array of the first 10 numbers (0-9):"
   ]
  },
  {
   "cell_type": "code",
   "execution_count": 20,
   "metadata": {
    "scrolled": true
   },
   "outputs": [
    {
     "name": "stdout",
     "output_type": "stream",
     "text": [
      "[0 1 2 3 4 5 6 7 8 9]\n",
      "[4 6 5 2 3 9 7 0 8 1]\n"
     ]
    }
   ],
   "source": [
    "ten_list = np.arange(10)\n",
    "print(ten_list)\n",
    "rg.shuffle(ten_list)\n",
    "print(ten_list)"
   ]
  },
  {
   "cell_type": "markdown",
   "metadata": {},
   "source": [
    "#### Permutation\n",
    "**permutation** is very similar to **shuffle**, except that it does not rearrange the input array in-place, the original input array is unchanged. Instead, it returns a new numpy array which consists of randomly rearranged elements of the input array. For instance, to generate a numpy array of the randomy rearranged numpy array of the first 10 numbers (0-9):"
   ]
  },
  {
   "cell_type": "code",
   "execution_count": 21,
   "metadata": {
    "scrolled": true
   },
   "outputs": [
    {
     "name": "stdout",
     "output_type": "stream",
     "text": [
      "[0 1 2 3 4 5 6 7 8 9]\n",
      "[1 0 4 7 8 6 9 2 3 5] [0 1 2 3 4 5 6 7 8 9]\n"
     ]
    }
   ],
   "source": [
    "ten_list = np.arange(10)\n",
    "print(ten_list)\n",
    "permuted = rg.permutation(ten_list)\n",
    "print(permuted, ten_list)"
   ]
  },
  {
   "cell_type": "markdown",
   "metadata": {},
   "source": [
    "## Use and purpose of Distributions functions\n",
    "### Binomial\n",
    "The Binomial distribution is a discrete-binary probability distribution with only two outcomes: 0 and 1. An experiment is performed n times and the success or failure of each experiment is represented as 0 or 1. The probability of sucess is represented as p and the probability of failure is 1-p. The mean is np (the median and mode are more complicated and have multiple formulae).\n",
    "The purpose of the **binomial** function is to generate a numpy array of floats using this distribution. For instance, to generate 100000 binomially distributed random numbers with n=1 and p = 0.3333 (note, when n=1 the binomial distribution equals the Bernoulli distribution):"
   ]
  },
  {
   "cell_type": "code",
   "execution_count": 22,
   "metadata": {
    "scrolled": true
   },
   "outputs": [
    {
     "name": "stdout",
     "output_type": "stream",
     "text": [
      "[0 0 1 ... 0 1 1]\n",
      "0.33349\n",
      "100000\n"
     ]
    }
   ],
   "source": [
    "b = rg.binomial(1, 0.3333, size=100000)\n",
    "print(b)\n",
    "print(np.mean(b))\n",
    "print(len(b))"
   ]
  },
  {
   "cell_type": "markdown",
   "metadata": {},
   "source": [
    "The **binomial** function returns integers as the binomial distribution is discrete.\n",
    "A visual representation of **binomials**'s functionality is shown as follows:"
   ]
  },
  {
   "cell_type": "code",
   "execution_count": 62,
   "metadata": {
    "scrolled": true
   },
   "outputs": [
    {
     "data": {
      "image/png": "[encoded data removed]",
      "text/plain": [
       "<Figure size 432x288 with 1 Axes>"
      ]
     },
     "metadata": {},
     "output_type": "display_data"
    }
   ],
   "source": [
    "# to generate plots using pyplot from matplotlib\n",
    "import matplotlib.pyplot as plt\n",
    "# seaborn makes the plots look nicer\n",
    "import seaborn as sns\n",
    "\n",
    "# create grid for pyplots from seaborn\n",
    "sns.set()\n",
    "\n",
    "# This creates histogram plots\n",
    "def plot_hist_of_dist(input_sample, x_label, y_label, dist_name, bins_no, highest_ratio):\n",
    "    # takes the input sample, number of bins and sets density=True to trace a \n",
    "    # good fit for a probability density function to the data.\n",
    "    count, bins, ignored = plt.hist(input_sample, bins_no, density=True)\n",
    "\n",
    "    # does plot of bins used in histogram. highest_ratio shows where the\n",
    "    # highest value of the PDF is.\n",
    "    plt.plot(bins, highest_ratio*np.ones_like(bins), linewidth=2, color='r')\n",
    "\n",
    "    # Title of the histogram plot\n",
    "    plt.title(dist_name, fontsize=25)\n",
    "    \n",
    "    # the x label of histogrm\n",
    "    plt.xlabel(x_label, fontsize=20)\n",
    "    \n",
    "    # the y label of histogram\n",
    "    plt.ylabel(y_label, fontsize=20)\n",
    "    \n",
    "    # change size of ticks of x and y axes\n",
    "    ax = plt.gca()\n",
    "    ax.tick_params(axis = 'both', which = 'major', labelsize = 14)\n",
    "\n",
    "    # show the plot of bins and histogram plot on same graph\n",
    "    plt.show()\n",
    "\n",
    "# show histogram of binomially generated numbers\n",
    "# 100 bins used to show that all of the values are at\n",
    "# discrete points 0 and 1. 66.6 is the highest value\n",
    "# of the probability distribution using 100 bins\n",
    "plot_hist_of_dist(b, \"X\", \"Probability\", \"Binomial\", 100, 66.6)"
   ]
  },
  {
   "cell_type": "markdown",
   "metadata": {},
   "source": [
    "Where X is a variable indicating a point along the interval [0,1]. As can be seen from the histogram, approximately 66% of the values are at 0 and 33% are at 1."
   ]
  },
  {
   "cell_type": "markdown",
   "metadata": {},
   "source": [
    "### Uniform \n",
    "The uniform distribution is a probability distribution where each segment of the interval where the distribution is defined on has equal probability with any other segment of the interval. The mean of the distribution is the midpoint of the interval and equals the median. The mode is any value in the interval.\n",
    "The purpose of **uniform** is to generate a numpy array of floats using this distribution. For instance, to generate 100000 uniformly distributed random numbers greater than or equal to 2 and less than 5:"
   ]
  },
  {
   "cell_type": "code",
   "execution_count": 58,
   "metadata": {},
   "outputs": [
    {
     "name": "stdout",
     "output_type": "stream",
     "text": [
      "[2.82276353 4.55847198 3.77968706 ... 2.02843637 2.58283678 3.7639748 ]\n",
      "3.5033598408957625\n",
      "3.5047317193539063\n",
      "100000\n"
     ]
    }
   ],
   "source": [
    "u = rg.uniform(2, 5, 100000)\n",
    "print(u)\n",
    "# mean and median should equal\n",
    "print(np.mean(u))\n",
    "print(np.median(u))\n",
    "# 100000 number of samples\n",
    "print(len(u))"
   ]
  },
  {
   "cell_type": "markdown",
   "metadata": {},
   "source": [
    "The **uniform** function assumes that the interval between 2 and 5 is continuous, not discrete and returns floats. To generate integers from a discrete interval between 2 and 5, one should use the **integers** function described previously. **uniform** is very similar to the **random** function previously described.\n",
    "A visual representation of **uniform**'s functionality is shown as follows:"
   ]
  },
  {
   "cell_type": "code",
   "execution_count": 63,
   "metadata": {},
   "outputs": [
    {
     "data": {
      "image/png": "[encoded data removed]",
      "text/plain": [
       "<Figure size 432x288 with 1 Axes>"
      ]
     },
     "metadata": {},
     "output_type": "display_data"
    }
   ],
   "source": [
    "# Generate histogram of uniform distribution. 30 bins, so PDF is divided into 30 segments\n",
    "# of size 0.1, from 2 to 5. Highest value (mode) is any value in the distribution approx = 0.3333\n",
    "plot_hist_of_dist(u, \"X\", \"Probability\", \"Uniform\", 30, 0.33333)"
   ]
  },
  {
   "cell_type": "markdown",
   "metadata": {},
   "source": [
    "Where X is a variable indicating a point along the interval [2,5). As can be seen from the histogram, the probability for each segment (divided here into bins of length 0.1) is approximately equal to the probability for the next segment, and so on for the entirel interval [2,5).\n",
    "### Normal\n",
    "The normal distribution is a probability distribution which has a peak around the mean or average value and decreases with distance from the mean. It is symmetric about this mean. In addition, the median (centre) and mode (most common) probability values are identical to the the mean. Approximately 68% of the distribution is located in the interval [mu-sigma, mu+sigma] (where mu is the mean and sigma is the standard deviation), 95% is located in the interval [mu -2sigma, mu+2sigma] and 99.7% is located in the interval [mu-3sigma, mu+3sigma]. \n",
    "The purpose of the **normal** function is to generate a numpy array of floats using this distribution. For instance, to generate 10000 normally distributed random numbers between 2 and 5 with mean 2.5 and standard deviation 0.1:"
   ]
  },
  {
   "cell_type": "code",
   "execution_count": 64,
   "metadata": {},
   "outputs": [
    {
     "name": "stdout",
     "output_type": "stream",
     "text": [
      "[2.53651871 2.54768325 2.535859   ... 2.50517029 2.37276458 2.51861804]\n",
      "2.499632633668946\n",
      "2.4998513288525457\n",
      "100000\n"
     ]
    }
   ],
   "source": [
    "n = np.random.default_rng().normal(2.5, 0.1, 100000)\n",
    "print(n)\n",
    "# mean and median should equal\n",
    "print(np.mean(n))\n",
    "print(np.median(n))\n",
    "# number of samples generated\n",
    "print(len(n))"
   ]
  },
  {
   "cell_type": "markdown",
   "metadata": {},
   "source": [
    "The **normal** function assumes that the interval between 2 and 5 is continuous, not discrete and returns floats.\n",
    "A visual representation of **normal**'s functionality is shown as follows:"
   ]
  },
  {
   "cell_type": "code",
   "execution_count": 65,
   "metadata": {},
   "outputs": [
    {
     "data": {
      "image/png": "[encoded data removed]",
      "text/plain": [
       "<Figure size 432x288 with 1 Axes>"
      ]
     },
     "metadata": {},
     "output_type": "display_data"
    }
   ],
   "source": [
    "# plot histogram of normally generated numbers, number of bins = 30, highest value (mode) approx = 3.9\n",
    "plot_hist_of_dist(n, \"X\", \"Probability\", \"Normal\", 30, 3.9)"
   ]
  },
  {
   "cell_type": "markdown",
   "metadata": {},
   "source": [
    "As can be seen from the histogram, the probability for each segment (divided here into bins of length 0.1) is largest for the mean value X=2.5 and decreases gradually as X becomes smaller or larger than the mean. As X approaches 2.8 and 2.2. the probability becomes very small as 99.7% of the distribution is located in the interval [mu - 3sigma, mu+3sigma] which is [2.2, 2.8]\n",
    "### Log-normal\n",
    "The log-normal distribution is a distribution where its natural log (log<sub>e</sub>) is normally distributed. It is a left skewed distribution (i.e. the mode is less than the median which is less than the mean).\n",
    "The purpose of the **lognormal** function is to generate a numpy array of floats using this distribution. For instance, to generate 10000 normally distributed random numbers between 2 and 5 with mean 2.5 and standard deviation 0.25:"
   ]
  },
  {
   "cell_type": "code",
   "execution_count": 66,
   "metadata": {},
   "outputs": [
    {
     "name": "stdout",
     "output_type": "stream",
     "text": [
      "[14.16537664 12.3420777  10.52379834 ... 17.17341756  9.6831781\n",
      " 16.06927342]\n",
      "12.585639338242952\n",
      "12.188701014273288\n",
      "100000\n"
     ]
    }
   ],
   "source": [
    "ln = rg.lognormal(2.5, 0.25, 100000)\n",
    "print(ln)\n",
    "# mean should be greater than median\n",
    "print(np.mean(ln))\n",
    "print(np.median(ln))\n",
    "# number o samples taken\n",
    "print(len(n))"
   ]
  },
  {
   "cell_type": "markdown",
   "metadata": {},
   "source": [
    "The **lognormal** function assumes that the interval between 2 and 5 is continuous, not discrete and returns floats.\n",
    "A visual representation of **lognormal**'s functionality is shown as follows:"
   ]
  },
  {
   "cell_type": "code",
   "execution_count": 68,
   "metadata": {},
   "outputs": [
    {
     "data": {
      "image/png": "[encoded data removed]",
      "text/plain": [
       "<Figure size 432x288 with 1 Axes>"
      ]
     },
     "metadata": {},
     "output_type": "display_data"
    }
   ],
   "source": [
    "# plot of lognormal distribution, the highest value (mode) is approx 0.132\n",
    "plot_hist_of_dist(ln, \"X\", \"Probability\", \"Lognormal\", 15, 0.132)"
   ]
  },
  {
   "cell_type": "markdown",
   "metadata": {},
   "source": [
    "The left-skewed nature of the distribution can be seen from the histogram\n",
    "### Exponential\n",
    "The exponential function is a probability distribution which describes the time between events in a process where events happen continuously. The events are independant of each other and occur at a constant average rate.\n",
    "The purpose of the **exponential** function is to generate a numpy array of floats using this distribution. For instance, to generate 10000 exponentially distributed random numbers with mean 2:"
   ]
  },
  {
   "cell_type": "code",
   "execution_count": 111,
   "metadata": {},
   "outputs": [
    {
     "name": "stdout",
     "output_type": "stream",
     "text": [
      "[0.40701006 2.695794   0.54169577 ... 0.70812717 0.84607904 0.33901074]\n",
      "1.9997474881306931\n",
      "1.3841394887794118\n",
      "100000\n"
     ]
    }
   ],
   "source": [
    "e = rg.exponential(2, size=100000)\n",
    "print(e)\n",
    "print(np.mean(e))\n",
    "print(np.median(e))\n",
    "print(len(e))"
   ]
  },
  {
   "cell_type": "markdown",
   "metadata": {},
   "source": [
    "The **exponential** function assumes continuous not discrete probabilities and returns floats.\n",
    "A visual representation of **exponetial**'s functionality is shown as follows:"
   ]
  },
  {
   "cell_type": "code",
   "execution_count": 118,
   "metadata": {},
   "outputs": [
    {
     "data": {
      "image/png": "[encoded data removed]",
      "text/plain": [
       "<Figure size 432x288 with 1 Axes>"
      ]
     },
     "metadata": {},
     "output_type": "display_data"
    }
   ],
   "source": [
    "plot_hist_of_dist(e, \"X\", \"Probability\", \"Exponential\", 30, 0.41)"
   ]
  },
  {
   "cell_type": "markdown",
   "metadata": {},
   "source": [
    "Like the log normal distribution, it is left-skewed as can be seen from the histogram"
   ]
  },
  {
   "cell_type": "markdown",
   "metadata": {},
   "source": [
    "## Seeds\n",
    "A seed specifies a starting point in a pattern that a computer uses to generate pseudorandom numbers. The seed is usually taken from the seconds on a computer's clock. This ensures that no two seeds are identical.\n",
    "An example of a pattern is done using the irrational number pi (3.141592654...). The digits of pi has no regular pattern so is good for pseudorandom number generation. An example pattern acting on pi is take the seed X, add it to 50 and use the (X+50)th digit of pi as the first random number. Than substract 37 from that to get the second number, and so on.\n",
    "(Note: this is a simple example pattern, in practice computers use more complicated patterns based on the Bernoulli or Poisson distribution).\n",
    "While no two seeds are identical, they are preset initially when on is generating pseudorandom numbers. This is useful because if one has the seed for a particular set of pseudorandom numbers, they can replicate the exact same set of pseudorandom numbers for testing purposes. For instance, at the start of this Jupyter Notebook the numpy array *integer_list* was generated using the **integers** function. It can be generated again using the generator **rg** which has the same seed:"
   ]
  },
  {
   "cell_type": "code",
   "execution_count": 134,
   "metadata": {},
   "outputs": [
    {
     "name": "stdout",
     "output_type": "stream",
     "text": [
      "[4 3 3 2 2 2 2 2 2 4]\n",
      "[4 3 3 2 2 2 2 2 2 4]\n"
     ]
    }
   ],
   "source": [
    "print(integer_list)\n",
    "sg = SeedSequence(1234)\n",
    "seed = sg.spawn(0)\n",
    "rg = Generator(PCG64(seed)) \n",
    "integer_list2 = rg.integers(low=2, high=5, size=10)\n",
    "print(integer_list)"
   ]
  },
  {
   "cell_type": "markdown",
   "metadata": {},
   "source": [
    "## References\n",
    "[1] Haahr, M., 2020. RANDOM.ORG - Introduction To Randomness And Random Numbers. [online] Random.org. Available at: <https://www.random.org/randomness/> [Accessed 26 October 2020].<br>\n",
    "[2] Sicara.ai. 2020. [online] Available at: <https://www.sicara.ai/blog/2019-01-28-how-computer-generate-random-numbers> [Accessed 26 October 2020]. <br>\n",
    "[3] Numpy.org. 2020. Random Generator — Numpy V1.19 Manual. [online] Available at: <https://numpy.org/doc/stable/reference/random/generator.html#numpy.random.Generator> [Accessed 26 October 2020]."
   ]
  }
 ],
 "metadata": {
  "kernelspec": {
   "display_name": "Python 3",
   "language": "python",
   "name": "python3"
  },
  "language_info": {
   "codemirror_mode": {
    "name": "ipython",
    "version": 3
   },
   "file_extension": ".py",
   "mimetype": "text/x-python",
   "name": "python",
   "nbconvert_exporter": "python",
   "pygments_lexer": "ipython3",
   "version": "3.8.5"
  }
 },
 "nbformat": 4,
 "nbformat_minor": 4
}
